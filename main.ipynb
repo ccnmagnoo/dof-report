{
 "cells": [
  {
   "cell_type": "markdown",
   "metadata": {},
   "source": [
    "# DOF RCL report scrapper\n",
    "url [dof.cl](https://www.diariooficial.interior.gob.cl/edicionelectronica/index.php)"
   ]
  }
 ],
 "metadata": {
  "language_info": {
   "name": "python"
  }
 },
 "nbformat": 4,
 "nbformat_minor": 2
}
